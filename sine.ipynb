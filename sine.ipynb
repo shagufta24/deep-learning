{
 "cells": [
  {
   "cell_type": "code",
   "execution_count": 1,
   "id": "e521115c",
   "metadata": {},
   "outputs": [],
   "source": [
    "import numpy as np\n",
    "from ann_funcs import *\n",
    "from sine_data import *"
   ]
  },
  {
   "cell_type": "code",
   "execution_count": 2,
   "id": "df2e487c",
   "metadata": {},
   "outputs": [],
   "source": [
    "\n",
    "train_x, train_y, test_x, test_y = generate_sine_data()"
   ]
  },
  {
   "cell_type": "code",
   "execution_count": 3,
   "id": "5361de24",
   "metadata": {},
   "outputs": [
    {
     "name": "stdout",
     "output_type": "stream",
     "text": [
      "No. of samples:  1000\n",
      "No. of features:  1\n"
     ]
    }
   ],
   "source": [
    "print(\"No. of samples: \", train_x.shape[1])\n",
    "print(\"No. of features: \", train_x.shape[0])"
   ]
  },
  {
   "cell_type": "code",
   "execution_count": 4,
   "id": "2f6cd2fd",
   "metadata": {},
   "outputs": [],
   "source": [
    "layers_dims = [1, 20, 20, 1]"
   ]
  },
  {
   "cell_type": "code",
   "execution_count": 8,
   "id": "979290be",
   "metadata": {
    "scrolled": true
   },
   "outputs": [
    {
     "name": "stdout",
     "output_type": "stream",
     "text": [
      "Cost after iteration 0: 0.404893\n",
      "Cost after iteration 100: 0.074067\n",
      "Cost after iteration 200: 0.047495\n",
      "Cost after iteration 300: 0.041060\n",
      "Cost after iteration 400: 0.038211\n",
      "Cost after iteration 500: 0.036259\n",
      "Cost after iteration 600: 0.034561\n",
      "Cost after iteration 700: 0.032975\n",
      "Cost after iteration 800: 0.031537\n",
      "Cost after iteration 900: 0.030314\n",
      "Cost after iteration 1000: 0.029320\n",
      "Cost after iteration 1100: 0.028524\n",
      "Cost after iteration 1200: 0.027878\n",
      "Cost after iteration 1300: 0.027343\n",
      "Cost after iteration 1400: 0.026892\n",
      "Cost after iteration 1500: 0.026505\n",
      "Cost after iteration 1600: 0.026167\n",
      "Cost after iteration 1700: 0.025869\n",
      "Cost after iteration 1800: 0.025602\n",
      "Cost after iteration 1900: 0.025362\n",
      "Cost after iteration 2000: 0.025144\n",
      "Cost after iteration 2100: 0.024944\n",
      "Cost after iteration 2200: 0.024761\n",
      "Cost after iteration 2300: 0.024591\n",
      "Cost after iteration 2400: 0.024433\n",
      "Cost after iteration 2500: 0.024286\n",
      "Cost after iteration 2600: 0.024147\n",
      "Cost after iteration 2700: 0.024018\n",
      "Cost after iteration 2800: 0.023895\n",
      "Cost after iteration 2900: 0.023779\n",
      "Cost after iteration 3000: 0.023669\n",
      "Cost after iteration 3100: 0.023565\n",
      "Cost after iteration 3200: 0.023465\n",
      "Cost after iteration 3300: 0.023369\n",
      "Cost after iteration 3400: 0.023278\n",
      "Cost after iteration 3500: 0.023190\n",
      "Cost after iteration 3600: 0.023106\n",
      "Cost after iteration 3700: 0.023024\n",
      "Cost after iteration 3800: 0.022946\n",
      "Cost after iteration 3900: 0.022870\n",
      "Cost after iteration 4000: 0.022797\n",
      "Cost after iteration 4100: 0.022726\n",
      "Cost after iteration 4200: 0.022657\n",
      "Cost after iteration 4300: 0.022590\n",
      "Cost after iteration 4400: 0.022524\n",
      "Cost after iteration 4500: 0.022461\n",
      "Cost after iteration 4600: 0.022399\n",
      "Cost after iteration 4700: 0.022339\n",
      "Cost after iteration 4800: 0.022281\n",
      "Cost after iteration 4900: 0.022223\n",
      "Cost after iteration 5000: 0.022167\n",
      "Cost after iteration 5100: 0.022113\n",
      "Cost after iteration 5200: 0.022059\n",
      "Cost after iteration 5300: 0.022007\n",
      "Cost after iteration 5400: 0.021955\n",
      "Cost after iteration 5500: 0.021905\n",
      "Cost after iteration 5600: 0.021856\n",
      "Cost after iteration 5700: 0.021807\n",
      "Cost after iteration 5800: 0.021759\n",
      "Cost after iteration 5900: 0.021712\n",
      "Cost after iteration 6000: 0.021666\n",
      "Cost after iteration 6100: 0.021621\n",
      "Cost after iteration 6200: 0.021576\n",
      "Cost after iteration 6300: 0.021532\n",
      "Cost after iteration 6400: 0.021488\n",
      "Cost after iteration 6500: 0.021445\n",
      "Cost after iteration 6600: 0.021403\n",
      "Cost after iteration 6700: 0.021360\n",
      "Cost after iteration 6800: 0.021319\n",
      "Cost after iteration 6900: 0.021277\n",
      "Cost after iteration 7000: 0.021236\n",
      "Cost after iteration 7100: 0.021195\n",
      "Cost after iteration 7200: 0.021154\n",
      "Cost after iteration 7300: 0.021114\n",
      "Cost after iteration 7400: 0.021073\n",
      "Cost after iteration 7500: 0.021033\n",
      "Cost after iteration 7600: 0.020992\n",
      "Cost after iteration 7700: 0.020951\n",
      "Cost after iteration 7800: 0.020910\n",
      "Cost after iteration 7900: 0.020869\n",
      "Cost after iteration 8000: 0.020827\n",
      "Cost after iteration 8100: 0.020785\n",
      "Cost after iteration 8200: 0.020743\n",
      "Cost after iteration 8300: 0.020700\n",
      "Cost after iteration 8400: 0.020656\n",
      "Cost after iteration 8500: 0.020611\n",
      "Cost after iteration 8600: 0.020565\n",
      "Cost after iteration 8700: 0.020517\n",
      "Cost after iteration 8800: 0.020469\n",
      "Cost after iteration 8900: 0.020419\n",
      "Cost after iteration 9000: 0.020367\n",
      "Cost after iteration 9100: 0.020312\n",
      "Cost after iteration 9200: 0.020256\n",
      "Cost after iteration 9300: 0.020197\n",
      "Cost after iteration 9400: 0.020134\n",
      "Cost after iteration 9500: 0.020068\n",
      "Cost after iteration 9600: 0.019997\n",
      "Cost after iteration 9700: 0.019922\n",
      "Cost after iteration 9800: 0.019840\n",
      "Cost after iteration 9900: 0.019752\n"
     ]
    },
    {
     "data": {
      "image/png": "[encoded data removed]",
      "text/plain": [
       "<Figure size 432x288 with 1 Axes>"
      ]
     },
     "metadata": {
      "needs_background": "light"
     },
     "output_type": "display_data"
    }
   ],
   "source": [
    "parameters = L_layer_model(train_x, train_y, layers_dims, learning_rate = 0.04, num_iterations = 10000, print_cost = True, cost_func = \"mse\", activation = \"tanh\", he_init=True)"
   ]
  },
  {
   "cell_type": "code",
   "execution_count": 9,
   "id": "04af52f3",
   "metadata": {},
   "outputs": [
    {
     "name": "stdout",
     "output_type": "stream",
     "text": [
      "MSE:  0.01965626786849424\n",
      "MSE:  0.018831361363001377\n"
     ]
    }
   ],
   "source": [
    "activation = \"tanh\"\n",
    "\n",
    "train_mse = test_regression(train_x, train_y, parameters, activation, activation)\n",
    "test_mse = test_regression(test_x, test_y, parameters, activation, activation)"
   ]
  },
  {
   "cell_type": "code",
   "execution_count": 11,
   "id": "1e7b7e25",
   "metadata": {},
   "outputs": [],
   "source": [
    "preds, cache = L_model_forward(test_x, parameters, activation, activation)"
   ]
  },
  {
   "cell_type": "code",
   "execution_count": 12,
   "id": "c2295a39",
   "metadata": {},
   "outputs": [
    {
     "data": {
      "image/png": "[encoded data removed]",
      "text/plain": [
       "<Figure size 432x288 with 1 Axes>"
      ]
     },
     "metadata": {
      "needs_background": "light"
     },
     "output_type": "display_data"
    }
   ],
   "source": [
    "plt.scatter(train_x[0],train_y[0],color='blue')\n",
    "plt.scatter(test_x[0],preds[0],color='red')\n",
    "plt.legend(['train','test'])\n",
    "plt.show()"
   ]
  },
  {
   "cell_type": "code",
   "execution_count": null,
   "id": "7066409d",
   "metadata": {},
   "outputs": [],
   "source": []
  }
 ],
 "metadata": {
  "kernelspec": {
   "display_name": "Python 3.9.6 64-bit",
   "language": "python",
   "name": "python3"
  },
  "language_info": {
   "codemirror_mode": {
    "name": "ipython",
    "version": 3
   },
   "file_extension": ".py",
   "mimetype": "text/x-python",
   "name": "python",
   "nbconvert_exporter": "python",
   "pygments_lexer": "ipython3",
   "version": "3.9.6"
  },
  "vscode": {
   "interpreter": {
    "hash": "a70e35cc37e5d6b43581a2bbcc812898b7c7399b258b00c62cbb1ff710d022c3"
   }
  }
 },
 "nbformat": 4,
 "nbformat_minor": 5
}
