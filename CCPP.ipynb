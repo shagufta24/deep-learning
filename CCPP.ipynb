{
 "cells": [
  {
   "cell_type": "code",
   "execution_count": 1,
   "id": "cb5d273a",
   "metadata": {},
   "outputs": [],
   "source": [
    "import pandas as pd\n",
    "import numpy as np\n",
    "from ann_funcs import *"
   ]
  },
  {
   "cell_type": "code",
   "execution_count": 2,
   "id": "ea0c7ff3",
   "metadata": {},
   "outputs": [
    {
     "data": {
      "text/html": [
       "<div>\n",
       "<style scoped>\n",
       "    .dataframe tbody tr th:only-of-type {\n",
       "        vertical-align: middle;\n",
       "    }\n",
       "\n",
       "    .dataframe tbody tr th {\n",
       "        vertical-align: top;\n",
       "    }\n",
       "\n",
       "    .dataframe thead th {\n",
       "        text-align: right;\n",
       "    }\n",
       "</style>\n",
       "<table border=\"1\" class=\"dataframe\">\n",
       "  <thead>\n",
       "    <tr style=\"text-align: right;\">\n",
       "      <th></th>\n",
       "      <th>AT</th>\n",
       "      <th>V</th>\n",
       "      <th>AP</th>\n",
       "      <th>RH</th>\n",
       "      <th>PE</th>\n",
       "    </tr>\n",
       "  </thead>\n",
       "  <tbody>\n",
       "    <tr>\n",
       "      <th>0</th>\n",
       "      <td>14.96</td>\n",
       "      <td>41.76</td>\n",
       "      <td>1024.07</td>\n",
       "      <td>73.17</td>\n",
       "      <td>463.26</td>\n",
       "    </tr>\n",
       "    <tr>\n",
       "      <th>1</th>\n",
       "      <td>25.18</td>\n",
       "      <td>62.96</td>\n",
       "      <td>1020.04</td>\n",
       "      <td>59.08</td>\n",
       "      <td>444.37</td>\n",
       "    </tr>\n",
       "    <tr>\n",
       "      <th>2</th>\n",
       "      <td>5.11</td>\n",
       "      <td>39.40</td>\n",
       "      <td>1012.16</td>\n",
       "      <td>92.14</td>\n",
       "      <td>488.56</td>\n",
       "    </tr>\n",
       "    <tr>\n",
       "      <th>3</th>\n",
       "      <td>20.86</td>\n",
       "      <td>57.32</td>\n",
       "      <td>1010.24</td>\n",
       "      <td>76.64</td>\n",
       "      <td>446.48</td>\n",
       "    </tr>\n",
       "    <tr>\n",
       "      <th>4</th>\n",
       "      <td>10.82</td>\n",
       "      <td>37.50</td>\n",
       "      <td>1009.23</td>\n",
       "      <td>96.62</td>\n",
       "      <td>473.90</td>\n",
       "    </tr>\n",
       "  </tbody>\n",
       "</table>\n",
       "</div>"
      ],
      "text/plain": [
       "      AT      V       AP     RH      PE\n",
       "0  14.96  41.76  1024.07  73.17  463.26\n",
       "1  25.18  62.96  1020.04  59.08  444.37\n",
       "2   5.11  39.40  1012.16  92.14  488.56\n",
       "3  20.86  57.32  1010.24  76.64  446.48\n",
       "4  10.82  37.50  1009.23  96.62  473.90"
      ]
     },
     "execution_count": 2,
     "metadata": {},
     "output_type": "execute_result"
    }
   ],
   "source": [
    "df = pd.read_csv(\"ccpp.csv\")\n",
    "df.head()"
   ]
  },
  {
   "cell_type": "code",
   "execution_count": 3,
   "id": "644563ef",
   "metadata": {},
   "outputs": [
    {
     "data": {
      "text/html": [
       "<div>\n",
       "<style scoped>\n",
       "    .dataframe tbody tr th:only-of-type {\n",
       "        vertical-align: middle;\n",
       "    }\n",
       "\n",
       "    .dataframe tbody tr th {\n",
       "        vertical-align: top;\n",
       "    }\n",
       "\n",
       "    .dataframe thead th {\n",
       "        text-align: right;\n",
       "    }\n",
       "</style>\n",
       "<table border=\"1\" class=\"dataframe\">\n",
       "  <thead>\n",
       "    <tr style=\"text-align: right;\">\n",
       "      <th></th>\n",
       "      <th>AT</th>\n",
       "      <th>V</th>\n",
       "      <th>AP</th>\n",
       "      <th>RH</th>\n",
       "      <th>PE</th>\n",
       "    </tr>\n",
       "  </thead>\n",
       "  <tbody>\n",
       "    <tr>\n",
       "      <th>0</th>\n",
       "      <td>0.372521</td>\n",
       "      <td>0.291815</td>\n",
       "      <td>0.771591</td>\n",
       "      <td>0.638204</td>\n",
       "      <td>0.569536</td>\n",
       "    </tr>\n",
       "    <tr>\n",
       "      <th>1</th>\n",
       "      <td>0.662040</td>\n",
       "      <td>0.669039</td>\n",
       "      <td>0.671863</td>\n",
       "      <td>0.449330</td>\n",
       "      <td>0.319338</td>\n",
       "    </tr>\n",
       "    <tr>\n",
       "      <th>2</th>\n",
       "      <td>0.093484</td>\n",
       "      <td>0.249822</td>\n",
       "      <td>0.476862</td>\n",
       "      <td>0.892493</td>\n",
       "      <td>0.904636</td>\n",
       "    </tr>\n",
       "    <tr>\n",
       "      <th>3</th>\n",
       "      <td>0.539660</td>\n",
       "      <td>0.568683</td>\n",
       "      <td>0.429349</td>\n",
       "      <td>0.684718</td>\n",
       "      <td>0.347285</td>\n",
       "    </tr>\n",
       "    <tr>\n",
       "      <th>4</th>\n",
       "      <td>0.255241</td>\n",
       "      <td>0.216014</td>\n",
       "      <td>0.404355</td>\n",
       "      <td>0.952547</td>\n",
       "      <td>0.710464</td>\n",
       "    </tr>\n",
       "  </tbody>\n",
       "</table>\n",
       "</div>"
      ],
      "text/plain": [
       "         AT         V        AP        RH        PE\n",
       "0  0.372521  0.291815  0.771591  0.638204  0.569536\n",
       "1  0.662040  0.669039  0.671863  0.449330  0.319338\n",
       "2  0.093484  0.249822  0.476862  0.892493  0.904636\n",
       "3  0.539660  0.568683  0.429349  0.684718  0.347285\n",
       "4  0.255241  0.216014  0.404355  0.952547  0.710464"
      ]
     },
     "execution_count": 3,
     "metadata": {},
     "output_type": "execute_result"
    }
   ],
   "source": [
    "df=(df-df.min())/(df.max()-df.min())\n",
    "df.head()"
   ]
  },
  {
   "cell_type": "code",
   "execution_count": 4,
   "id": "e29ae073",
   "metadata": {},
   "outputs": [],
   "source": [
    "df = df.dropna().reset_index(drop=True)"
   ]
  },
  {
   "cell_type": "code",
   "execution_count": 5,
   "id": "05668065",
   "metadata": {},
   "outputs": [],
   "source": [
    "from sklearn.model_selection import train_test_split\n",
    "\n",
    "X = df.iloc[:, :-1].values\n",
    "y = df.iloc[:, -1].values\n",
    "\n",
    "x_train, x_test, y_train, y_test = train_test_split(X, y)"
   ]
  },
  {
   "cell_type": "code",
   "execution_count": 6,
   "id": "3b5c7f33",
   "metadata": {},
   "outputs": [],
   "source": [
    "x_train = np.transpose(x_train)\n",
    "y_train = np.transpose(y_train)\n",
    "y_train = y_train.reshape(1, -1)\n",
    "x_test = np.transpose(x_test)\n",
    "y_test = np.transpose(y_test)\n",
    "y_test = y_test.reshape(1, -1)"
   ]
  },
  {
   "cell_type": "code",
   "execution_count": 7,
   "id": "47bcb8fd",
   "metadata": {},
   "outputs": [
    {
     "name": "stdout",
     "output_type": "stream",
     "text": [
      "In training set:\n",
      "No. of features:  4\n",
      "No. of samples:  7176\n"
     ]
    }
   ],
   "source": [
    "print(\"In training set:\")\n",
    "print(\"No. of features: \", x_train.shape[0])\n",
    "print(\"No. of samples: \", x_train.shape[1])"
   ]
  },
  {
   "cell_type": "code",
   "execution_count": 8,
   "id": "6e48b556",
   "metadata": {},
   "outputs": [],
   "source": [
    "layers_dims = [4, 20, 50, 20, 5, 1]"
   ]
  },
  {
   "cell_type": "code",
   "execution_count": 9,
   "id": "5097c316",
   "metadata": {},
   "outputs": [
    {
     "name": "stdout",
     "output_type": "stream",
     "text": [
      "Cost after iteration 0: 0.169625\n",
      "Cost after iteration 100: 0.005434\n",
      "Cost after iteration 200: 0.004202\n",
      "Cost after iteration 300: 0.003727\n",
      "Cost after iteration 400: 0.003421\n",
      "Cost after iteration 500: 0.003209\n",
      "Cost after iteration 600: 0.003057\n",
      "Cost after iteration 700: 0.002945\n",
      "Cost after iteration 800: 0.002860\n",
      "Cost after iteration 900: 0.002793\n"
     ]
    },
    {
     "data": {
      "image/png": "[encoded data removed]",
      "text/plain": [
       "<Figure size 432x288 with 1 Axes>"
      ]
     },
     "metadata": {
      "needs_background": "light"
     },
     "output_type": "display_data"
    }
   ],
   "source": [
    "parameters = L_layer_model(x_train, y_train, layers_dims, learning_rate = 0.02, num_iterations = 1000, print_cost = True, cost_func = \"mse\", activation = \"tanh\", he_init=True)"
   ]
  },
  {
   "cell_type": "code",
   "execution_count": 10,
   "id": "d3d5e478",
   "metadata": {},
   "outputs": [
    {
     "name": "stdout",
     "output_type": "stream",
     "text": [
      "MSE:  0.0027467134457870323\n"
     ]
    }
   ],
   "source": [
    "mse = test_regression(x_test, y_test, parameters, activation = \"tanh\", last_activation = \"tanh\")"
   ]
  },
  {
   "cell_type": "code",
   "execution_count": 11,
   "id": "c160df53",
   "metadata": {},
   "outputs": [
    {
     "name": "stdout",
     "output_type": "stream",
     "text": [
      "Actual:  0.6270198675496693\n",
      "Predicted:  0.7526790181992286\n"
     ]
    }
   ],
   "source": [
    "sample_x = x_test[:, 10]\n",
    "sample_x = sample_x.reshape(sample_x.shape[0], 1)\n",
    "sample_output, cache = L_model_forward(sample_x, parameters, \"tanh\", \"tanh\")\n",
    "print(\"Actual: \", y_test[:, 100][0])\n",
    "print(\"Predicted: \", sample_output[0][0])"
   ]
  },
  {
   "cell_type": "code",
   "execution_count": 12,
   "id": "7cb64ec8",
   "metadata": {},
   "outputs": [],
   "source": [
    "output, cache = L_model_forward(x_test, parameters, \"tanh\", \"tanh\")\n",
    "df2 = pd.DataFrame()\n",
    "df2['predicted'] = output[0].T.tolist()\n",
    "df2['actual'] = y_test[0].T.tolist()"
   ]
  },
  {
   "cell_type": "code",
   "execution_count": 13,
   "id": "2e15925c",
   "metadata": {},
   "outputs": [
    {
     "data": {
      "text/html": [
       "<div>\n",
       "<style scoped>\n",
       "    .dataframe tbody tr th:only-of-type {\n",
       "        vertical-align: middle;\n",
       "    }\n",
       "\n",
       "    .dataframe tbody tr th {\n",
       "        vertical-align: top;\n",
       "    }\n",
       "\n",
       "    .dataframe thead th {\n",
       "        text-align: right;\n",
       "    }\n",
       "</style>\n",
       "<table border=\"1\" class=\"dataframe\">\n",
       "  <thead>\n",
       "    <tr style=\"text-align: right;\">\n",
       "      <th></th>\n",
       "      <th>predicted</th>\n",
       "      <th>actual</th>\n",
       "    </tr>\n",
       "  </thead>\n",
       "  <tbody>\n",
       "    <tr>\n",
       "      <th>0</th>\n",
       "      <td>0.440036</td>\n",
       "      <td>0.512583</td>\n",
       "    </tr>\n",
       "    <tr>\n",
       "      <th>1</th>\n",
       "      <td>0.459241</td>\n",
       "      <td>0.569934</td>\n",
       "    </tr>\n",
       "    <tr>\n",
       "      <th>2</th>\n",
       "      <td>0.211973</td>\n",
       "      <td>0.198808</td>\n",
       "    </tr>\n",
       "    <tr>\n",
       "      <th>3</th>\n",
       "      <td>0.768481</td>\n",
       "      <td>0.848344</td>\n",
       "    </tr>\n",
       "    <tr>\n",
       "      <th>4</th>\n",
       "      <td>0.643730</td>\n",
       "      <td>0.705828</td>\n",
       "    </tr>\n",
       "    <tr>\n",
       "      <th>...</th>\n",
       "      <td>...</td>\n",
       "      <td>...</td>\n",
       "    </tr>\n",
       "    <tr>\n",
       "      <th>2387</th>\n",
       "      <td>0.248783</td>\n",
       "      <td>0.202649</td>\n",
       "    </tr>\n",
       "    <tr>\n",
       "      <th>2388</th>\n",
       "      <td>0.345215</td>\n",
       "      <td>0.313245</td>\n",
       "    </tr>\n",
       "    <tr>\n",
       "      <th>2389</th>\n",
       "      <td>0.451559</td>\n",
       "      <td>0.585166</td>\n",
       "    </tr>\n",
       "    <tr>\n",
       "      <th>2390</th>\n",
       "      <td>0.157236</td>\n",
       "      <td>0.088344</td>\n",
       "    </tr>\n",
       "    <tr>\n",
       "      <th>2391</th>\n",
       "      <td>0.243013</td>\n",
       "      <td>0.263709</td>\n",
       "    </tr>\n",
       "  </tbody>\n",
       "</table>\n",
       "<p>2392 rows × 2 columns</p>\n",
       "</div>"
      ],
      "text/plain": [
       "      predicted    actual\n",
       "0      0.440036  0.512583\n",
       "1      0.459241  0.569934\n",
       "2      0.211973  0.198808\n",
       "3      0.768481  0.848344\n",
       "4      0.643730  0.705828\n",
       "...         ...       ...\n",
       "2387   0.248783  0.202649\n",
       "2388   0.345215  0.313245\n",
       "2389   0.451559  0.585166\n",
       "2390   0.157236  0.088344\n",
       "2391   0.243013  0.263709\n",
       "\n",
       "[2392 rows x 2 columns]"
      ]
     },
     "execution_count": 13,
     "metadata": {},
     "output_type": "execute_result"
    }
   ],
   "source": [
    "df2"
   ]
  },
  {
   "cell_type": "code",
   "execution_count": 14,
   "id": "a376feca",
   "metadata": {},
   "outputs": [],
   "source": [
    "preds, cache = L_model_forward(x_test, parameters, activation=\"tanh\", last_activation=\"tanh\")"
   ]
  },
  {
   "cell_type": "code",
   "execution_count": 15,
   "id": "f1ddddb5",
   "metadata": {},
   "outputs": [
    {
     "name": "stdout",
     "output_type": "stream",
     "text": [
      "r2 score for perfect model is 0.8944945407116927\n"
     ]
    }
   ],
   "source": [
    "from sklearn.metrics import r2_score\n",
    "r2 = r2_score(y_test.T, preds.T)\n",
    "print('r2 score for perfect model is', r2)"
   ]
  },
  {
   "cell_type": "code",
   "execution_count": 33,
   "id": "b2b5e6f7",
   "metadata": {},
   "outputs": [
    {
     "data": {
      "image/png": "[encoded data removed]",
      "text/plain": [
       "<Figure size 432x288 with 1 Axes>"
      ]
     },
     "metadata": {
      "needs_background": "light"
     },
     "output_type": "display_data"
    }
   ],
   "source": [
    "plt.scatter(y_test.T,preds.T,color='pink')\n",
    "plt.xlabel(\"True values\")\n",
    "plt.ylabel(\"Predicted values\")\n",
    "txt = \"R^2 value = \" + str(r2)\n",
    "plt.title(\"Custom ANN\\n\" + txt)\n",
    "# plt.text(0, 0.6, txt, fontsize = 10)\n",
    "plt.show()"
   ]
  },
  {
   "cell_type": "code",
   "execution_count": 28,
   "id": "573a53bc",
   "metadata": {},
   "outputs": [],
   "source": [
    "data = np.hstack((y_test.T, preds.T))\n",
    "result = pd.DataFrame(data=data,columns=['true','pred'])\n",
    "result.to_csv(\"result.csv\")"
   ]
  },
  {
   "cell_type": "code",
   "execution_count": 27,
   "id": "67278956",
   "metadata": {},
   "outputs": [
    {
     "data": {
      "text/plain": [
       "array([[0.51258278, 0.44003639],\n",
       "       [0.56993377, 0.45924065],\n",
       "       [0.19880795, 0.21197302],\n",
       "       ...,\n",
       "       [0.58516556, 0.45155911],\n",
       "       [0.08834437, 0.15723616],\n",
       "       [0.26370861, 0.24301311]])"
      ]
     },
     "execution_count": 27,
     "metadata": {},
     "output_type": "execute_result"
    }
   ],
   "source": []
  },
  {
   "cell_type": "code",
   "execution_count": null,
   "id": "7c8868d3",
   "metadata": {},
   "outputs": [],
   "source": []
  }
 ],
 "metadata": {
  "kernelspec": {
   "display_name": "Python 3.9.6 64-bit",
   "language": "python",
   "name": "python3"
  },
  "language_info": {
   "codemirror_mode": {
    "name": "ipython",
    "version": 3
   },
   "file_extension": ".py",
   "mimetype": "text/x-python",
   "name": "python",
   "nbconvert_exporter": "python",
   "pygments_lexer": "ipython3",
   "version": "3.9.6"
  },
  "vscode": {
   "interpreter": {
    "hash": "a70e35cc37e5d6b43581a2bbcc812898b7c7399b258b00c62cbb1ff710d022c3"
   }
  }
 },
 "nbformat": 4,
 "nbformat_minor": 5
}
